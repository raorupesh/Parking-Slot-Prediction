{
  "nbformat": 4,
  "nbformat_minor": 0,
  "metadata": {
    "colab": {
      "name": "SocialNetwork.ipynb",
      "provenance": [],
      "collapsed_sections": []
    },
    "kernelspec": {
      "display_name": "Python 3",
      "name": "python3"
    },
    "language_info": {
      "name": "python"
    }
  },
  "cells": [
    {
      "cell_type": "code",
      "metadata": {
        "id": "7PDIupdizKyS"
      },
      "source": [
        "import tweepy\n",
        "from textblob import TextBlob\n",
        "from wordcloud import WordCloud\n",
        "import numpy as np\n",
        "import pandas as pd\n",
        "import re\n",
        "import matplotlib.pyplot as plt\n",
        "plt.style.use('fivethirtyeight')\n"
      ],
      "execution_count": null,
      "outputs": []
    },
    {
      "cell_type": "code",
      "metadata": {
        "colab": {
          "resources": {
            "http://localhost:8080/nbextensions/google.colab/files.js": {
              "data": "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",
              "ok": true,
              "headers": [
                [
                  "content-type",
                  "application/javascript"
                ]
              ],
              "status": 200,
              "status_text": ""
            }
          },
          "base_uri": "https://localhost:8080/",
          "height": 73
        },
        "id": "AI5WuXGOf_3c",
        "outputId": "db10e93d-9152-44d2-90b5-f47d7c633197"
      },
      "source": [
        "from google.colab import files\n",
        "uploaded = files.upload()"
      ],
      "execution_count": null,
      "outputs": [
        {
          "output_type": "display_data",
          "data": {
            "text/html": [
              "\n",
              "     <input type=\"file\" id=\"files-507a3ec2-c0e7-4c97-9e73-60a766668c3a\" name=\"files[]\" multiple disabled\n",
              "        style=\"border:none\" />\n",
              "     <output id=\"result-507a3ec2-c0e7-4c97-9e73-60a766668c3a\">\n",
              "      Upload widget is only available when the cell has been executed in the\n",
              "      current browser session. Please rerun this cell to enable.\n",
              "      </output>\n",
              "      <script src=\"/nbextensions/google.colab/files.js\"></script> "
            ],
            "text/plain": [
              "<IPython.core.display.HTML object>"
            ]
          },
          "metadata": {
            "tags": []
          }
        },
        {
          "output_type": "stream",
          "text": [
            "Saving SN2.csv to SN2.csv\n"
          ],
          "name": "stdout"
        }
      ]
    },
    {
      "cell_type": "code",
      "metadata": {
        "id": "RuDRuDXDgAND"
      },
      "source": [
        "df = pd.read_csv('SN2.csv')"
      ],
      "execution_count": null,
      "outputs": []
    },
    {
      "cell_type": "code",
      "metadata": {
        "id": "m01ToKpggAQw",
        "colab": {
          "base_uri": "https://localhost:8080/",
          "height": 195
        },
        "outputId": "1d49b4ab-1270-4d86-a4b5-152e211a106b"
      },
      "source": [
        "df.head()"
      ],
      "execution_count": null,
      "outputs": [
        {
          "output_type": "execute_result",
          "data": {
            "text/html": [
              "<div>\n",
              "<style scoped>\n",
              "    .dataframe tbody tr th:only-of-type {\n",
              "        vertical-align: middle;\n",
              "    }\n",
              "\n",
              "    .dataframe tbody tr th {\n",
              "        vertical-align: top;\n",
              "    }\n",
              "\n",
              "    .dataframe thead th {\n",
              "        text-align: right;\n",
              "    }\n",
              "</style>\n",
              "<table border=\"1\" class=\"dataframe\">\n",
              "  <thead>\n",
              "    <tr style=\"text-align: right;\">\n",
              "      <th></th>\n",
              "      <th>S.No</th>\n",
              "      <th>Parking Name</th>\n",
              "      <th>Yes/No</th>\n",
              "      <th>Review</th>\n",
              "      <th>Area</th>\n",
              "      <th>District</th>\n",
              "      <th>Year</th>\n",
              "    </tr>\n",
              "  </thead>\n",
              "  <tbody>\n",
              "    <tr>\n",
              "      <th>0</th>\n",
              "      <td>1</td>\n",
              "      <td>ABC</td>\n",
              "      <td>Yes</td>\n",
              "      <td>It is a valid place to park, but untidy</td>\n",
              "      <td>Hadapsar</td>\n",
              "      <td>Pune</td>\n",
              "      <td>2020</td>\n",
              "    </tr>\n",
              "    <tr>\n",
              "      <th>1</th>\n",
              "      <td>2</td>\n",
              "      <td>ABC</td>\n",
              "      <td>Yes</td>\n",
              "      <td>gh@gmail.com</td>\n",
              "      <td>Hadapsar</td>\n",
              "      <td>Pune</td>\n",
              "      <td>2020</td>\n",
              "    </tr>\n",
              "    <tr>\n",
              "      <th>2</th>\n",
              "      <td>3</td>\n",
              "      <td>GHI</td>\n",
              "      <td>Yes</td>\n",
              "      <td>Valid Parking but huge traffic</td>\n",
              "      <td>Juhu Beach</td>\n",
              "      <td>Mumbai</td>\n",
              "      <td>2020</td>\n",
              "    </tr>\n",
              "    <tr>\n",
              "      <th>3</th>\n",
              "      <td>4</td>\n",
              "      <td>ABC</td>\n",
              "      <td>Yes</td>\n",
              "      <td>Authentic@@@</td>\n",
              "      <td>Hadapsar</td>\n",
              "      <td>Pune</td>\n",
              "      <td>2020</td>\n",
              "    </tr>\n",
              "    <tr>\n",
              "      <th>4</th>\n",
              "      <td>5</td>\n",
              "      <td>GHI</td>\n",
              "      <td>Yes</td>\n",
              "      <td>It is a valid place to park, but untidy</td>\n",
              "      <td>Juhu Beach</td>\n",
              "      <td>Mumbai</td>\n",
              "      <td>2020</td>\n",
              "    </tr>\n",
              "  </tbody>\n",
              "</table>\n",
              "</div>"
            ],
            "text/plain": [
              "   S.No Parking Name Yes/No  ...        Area District  Year\n",
              "0     1          ABC    Yes  ...    Hadapsar     Pune  2020\n",
              "1     2          ABC    Yes  ...    Hadapsar     Pune  2020\n",
              "2     3          GHI    Yes  ...  Juhu Beach   Mumbai  2020\n",
              "3     4          ABC    Yes  ...    Hadapsar     Pune  2020\n",
              "4     5          GHI    Yes  ...  Juhu Beach   Mumbai  2020\n",
              "\n",
              "[5 rows x 7 columns]"
            ]
          },
          "metadata": {
            "tags": []
          },
          "execution_count": 5
        }
      ]
    },
    {
      "cell_type": "code",
      "metadata": {
        "id": "fMUZpZOAgAUp",
        "colab": {
          "base_uri": "https://localhost:8080/",
          "height": 402
        },
        "outputId": "d0f428cd-0167-4705-edd7-12375ba88469"
      },
      "source": [
        "# Create a function to clean the tweets\n",
        "def cleanTxt(text):\n",
        " text = re.sub('@', '', text) #Removing '@' from the text\n",
        " text = re.sub('#', '', text) # Removing '#' hash tag from the text\n",
        " text = re.sub('.com','', text) #Removing '.com' from the text\n",
        " text = re.sub('https?:\\/\\/\\S+', '', text) # Removing hyperlink\n",
        " \n",
        " return text\n",
        "\n",
        "\n",
        "# Clean the tweets\n",
        "df['Review'] = df['Review'].apply(cleanTxt)\n",
        "\n",
        "# Show the cleaned tweets\n",
        "df"
      ],
      "execution_count": null,
      "outputs": [
        {
          "output_type": "execute_result",
          "data": {
            "text/html": [
              "<div>\n",
              "<style scoped>\n",
              "    .dataframe tbody tr th:only-of-type {\n",
              "        vertical-align: middle;\n",
              "    }\n",
              "\n",
              "    .dataframe tbody tr th {\n",
              "        vertical-align: top;\n",
              "    }\n",
              "\n",
              "    .dataframe thead th {\n",
              "        text-align: right;\n",
              "    }\n",
              "</style>\n",
              "<table border=\"1\" class=\"dataframe\">\n",
              "  <thead>\n",
              "    <tr style=\"text-align: right;\">\n",
              "      <th></th>\n",
              "      <th>S.No</th>\n",
              "      <th>Parking Name</th>\n",
              "      <th>Yes/No</th>\n",
              "      <th>Review</th>\n",
              "      <th>Area</th>\n",
              "      <th>District</th>\n",
              "      <th>Year</th>\n",
              "    </tr>\n",
              "  </thead>\n",
              "  <tbody>\n",
              "    <tr>\n",
              "      <th>0</th>\n",
              "      <td>1</td>\n",
              "      <td>ABC</td>\n",
              "      <td>Yes</td>\n",
              "      <td>It is a valid place to park, but untidy</td>\n",
              "      <td>Hadapsar</td>\n",
              "      <td>Pune</td>\n",
              "      <td>2020</td>\n",
              "    </tr>\n",
              "    <tr>\n",
              "      <th>1</th>\n",
              "      <td>2</td>\n",
              "      <td>ABC</td>\n",
              "      <td>Yes</td>\n",
              "      <td>ghgmail</td>\n",
              "      <td>Hadapsar</td>\n",
              "      <td>Pune</td>\n",
              "      <td>2020</td>\n",
              "    </tr>\n",
              "    <tr>\n",
              "      <th>2</th>\n",
              "      <td>3</td>\n",
              "      <td>GHI</td>\n",
              "      <td>Yes</td>\n",
              "      <td>Valid Parking but huge traffic</td>\n",
              "      <td>Juhu Beach</td>\n",
              "      <td>Mumbai</td>\n",
              "      <td>2020</td>\n",
              "    </tr>\n",
              "    <tr>\n",
              "      <th>3</th>\n",
              "      <td>4</td>\n",
              "      <td>ABC</td>\n",
              "      <td>Yes</td>\n",
              "      <td>Authentic</td>\n",
              "      <td>Hadapsar</td>\n",
              "      <td>Pune</td>\n",
              "      <td>2020</td>\n",
              "    </tr>\n",
              "    <tr>\n",
              "      <th>4</th>\n",
              "      <td>5</td>\n",
              "      <td>GHI</td>\n",
              "      <td>Yes</td>\n",
              "      <td>It is a valid place to park, but untidy</td>\n",
              "      <td>Juhu Beach</td>\n",
              "      <td>Mumbai</td>\n",
              "      <td>2020</td>\n",
              "    </tr>\n",
              "    <tr>\n",
              "      <th>...</th>\n",
              "      <td>...</td>\n",
              "      <td>...</td>\n",
              "      <td>...</td>\n",
              "      <td>...</td>\n",
              "      <td>...</td>\n",
              "      <td>...</td>\n",
              "      <td>...</td>\n",
              "    </tr>\n",
              "    <tr>\n",
              "      <th>95</th>\n",
              "      <td>96</td>\n",
              "      <td>STU</td>\n",
              "      <td>No</td>\n",
              "      <td>Not valid</td>\n",
              "      <td>Mayani Bird Sanctuary</td>\n",
              "      <td>Satara</td>\n",
              "      <td>2021</td>\n",
              "    </tr>\n",
              "    <tr>\n",
              "      <th>96</th>\n",
              "      <td>97</td>\n",
              "      <td>PQR</td>\n",
              "      <td>Yes</td>\n",
              "      <td>Yes it is</td>\n",
              "      <td>Ajinkyatara Fort</td>\n",
              "      <td>Satara</td>\n",
              "      <td>2021</td>\n",
              "    </tr>\n",
              "    <tr>\n",
              "      <th>97</th>\n",
              "      <td>98</td>\n",
              "      <td>STU</td>\n",
              "      <td>No</td>\n",
              "      <td>Car got stolen away, its not authentic</td>\n",
              "      <td>Mayani Bird Sanctuary</td>\n",
              "      <td>Satara</td>\n",
              "      <td>2021</td>\n",
              "    </tr>\n",
              "    <tr>\n",
              "      <th>98</th>\n",
              "      <td>99</td>\n",
              "      <td>PQR</td>\n",
              "      <td>Yes</td>\n",
              "      <td>Yes parking</td>\n",
              "      <td>Ajinkyatara Fort</td>\n",
              "      <td>Satara</td>\n",
              "      <td>2021</td>\n",
              "    </tr>\n",
              "    <tr>\n",
              "      <th>99</th>\n",
              "      <td>100</td>\n",
              "      <td>STU</td>\n",
              "      <td>No</td>\n",
              "      <td>No its not a parking place</td>\n",
              "      <td>Mayani Bird Sanctuary</td>\n",
              "      <td>Satara</td>\n",
              "      <td>2021</td>\n",
              "    </tr>\n",
              "  </tbody>\n",
              "</table>\n",
              "<p>100 rows × 7 columns</p>\n",
              "</div>"
            ],
            "text/plain": [
              "    S.No Parking Name Yes/No  ...                   Area District  Year\n",
              "0      1          ABC    Yes  ...               Hadapsar     Pune  2020\n",
              "1      2          ABC    Yes  ...               Hadapsar     Pune  2020\n",
              "2      3          GHI    Yes  ...             Juhu Beach   Mumbai  2020\n",
              "3      4          ABC    Yes  ...               Hadapsar     Pune  2020\n",
              "4      5          GHI    Yes  ...             Juhu Beach   Mumbai  2020\n",
              "..   ...          ...    ...  ...                    ...      ...   ...\n",
              "95    96          STU     No  ...  Mayani Bird Sanctuary   Satara  2021\n",
              "96    97          PQR    Yes  ...       Ajinkyatara Fort   Satara  2021\n",
              "97    98          STU     No  ...  Mayani Bird Sanctuary   Satara  2021\n",
              "98    99          PQR    Yes  ...       Ajinkyatara Fort   Satara  2021\n",
              "99   100          STU     No  ...  Mayani Bird Sanctuary   Satara  2021\n",
              "\n",
              "[100 rows x 7 columns]"
            ]
          },
          "metadata": {
            "tags": []
          },
          "execution_count": 6
        }
      ]
    },
    {
      "cell_type": "code",
      "metadata": {
        "id": "w2HucgG2D1zl",
        "colab": {
          "base_uri": "https://localhost:8080/",
          "height": 402
        },
        "outputId": "2a23ec1d-6850-465a-d970-d7019b41f096"
      },
      "source": [
        "#Create a function to get their subjectivity\n",
        "\n",
        "def getsubjectivity(text):\n",
        "  return TextBlob(text).sentiment.subjectivity\n",
        "\n",
        "#Create a function to get their polarity\n",
        "\n",
        "def getPolarity(text):\n",
        "  return TextBlob(text).sentiment.polarity\n",
        "\n",
        "#Create two new columns\n",
        "\n",
        "df['Subjectivity'] =df['Review'].apply(getsubjectivity)\n",
        "df['Polarity'] =df['Review'].apply(getPolarity)\n",
        "\n",
        "df"
      ],
      "execution_count": null,
      "outputs": [
        {
          "output_type": "execute_result",
          "data": {
            "text/html": [
              "<div>\n",
              "<style scoped>\n",
              "    .dataframe tbody tr th:only-of-type {\n",
              "        vertical-align: middle;\n",
              "    }\n",
              "\n",
              "    .dataframe tbody tr th {\n",
              "        vertical-align: top;\n",
              "    }\n",
              "\n",
              "    .dataframe thead th {\n",
              "        text-align: right;\n",
              "    }\n",
              "</style>\n",
              "<table border=\"1\" class=\"dataframe\">\n",
              "  <thead>\n",
              "    <tr style=\"text-align: right;\">\n",
              "      <th></th>\n",
              "      <th>S.No</th>\n",
              "      <th>Parking Name</th>\n",
              "      <th>Yes/No</th>\n",
              "      <th>Review</th>\n",
              "      <th>Area</th>\n",
              "      <th>District</th>\n",
              "      <th>Year</th>\n",
              "      <th>Subjectivity</th>\n",
              "      <th>Polarity</th>\n",
              "    </tr>\n",
              "  </thead>\n",
              "  <tbody>\n",
              "    <tr>\n",
              "      <th>0</th>\n",
              "      <td>1</td>\n",
              "      <td>ABC</td>\n",
              "      <td>Yes</td>\n",
              "      <td>It is a valid place to park, but untidy</td>\n",
              "      <td>Hadapsar</td>\n",
              "      <td>Pune</td>\n",
              "      <td>2020</td>\n",
              "      <td>0.00</td>\n",
              "      <td>0.00</td>\n",
              "    </tr>\n",
              "    <tr>\n",
              "      <th>1</th>\n",
              "      <td>2</td>\n",
              "      <td>ABC</td>\n",
              "      <td>Yes</td>\n",
              "      <td>ghgmail</td>\n",
              "      <td>Hadapsar</td>\n",
              "      <td>Pune</td>\n",
              "      <td>2020</td>\n",
              "      <td>0.00</td>\n",
              "      <td>0.00</td>\n",
              "    </tr>\n",
              "    <tr>\n",
              "      <th>2</th>\n",
              "      <td>3</td>\n",
              "      <td>GHI</td>\n",
              "      <td>Yes</td>\n",
              "      <td>Valid Parking but huge traffic</td>\n",
              "      <td>Juhu Beach</td>\n",
              "      <td>Mumbai</td>\n",
              "      <td>2020</td>\n",
              "      <td>0.90</td>\n",
              "      <td>0.40</td>\n",
              "    </tr>\n",
              "    <tr>\n",
              "      <th>3</th>\n",
              "      <td>4</td>\n",
              "      <td>ABC</td>\n",
              "      <td>Yes</td>\n",
              "      <td>Authentic</td>\n",
              "      <td>Hadapsar</td>\n",
              "      <td>Pune</td>\n",
              "      <td>2020</td>\n",
              "      <td>0.75</td>\n",
              "      <td>0.50</td>\n",
              "    </tr>\n",
              "    <tr>\n",
              "      <th>4</th>\n",
              "      <td>5</td>\n",
              "      <td>GHI</td>\n",
              "      <td>Yes</td>\n",
              "      <td>It is a valid place to park, but untidy</td>\n",
              "      <td>Juhu Beach</td>\n",
              "      <td>Mumbai</td>\n",
              "      <td>2020</td>\n",
              "      <td>0.00</td>\n",
              "      <td>0.00</td>\n",
              "    </tr>\n",
              "    <tr>\n",
              "      <th>...</th>\n",
              "      <td>...</td>\n",
              "      <td>...</td>\n",
              "      <td>...</td>\n",
              "      <td>...</td>\n",
              "      <td>...</td>\n",
              "      <td>...</td>\n",
              "      <td>...</td>\n",
              "      <td>...</td>\n",
              "      <td>...</td>\n",
              "    </tr>\n",
              "    <tr>\n",
              "      <th>95</th>\n",
              "      <td>96</td>\n",
              "      <td>STU</td>\n",
              "      <td>No</td>\n",
              "      <td>Not valid</td>\n",
              "      <td>Mayani Bird Sanctuary</td>\n",
              "      <td>Satara</td>\n",
              "      <td>2021</td>\n",
              "      <td>0.00</td>\n",
              "      <td>0.00</td>\n",
              "    </tr>\n",
              "    <tr>\n",
              "      <th>96</th>\n",
              "      <td>97</td>\n",
              "      <td>PQR</td>\n",
              "      <td>Yes</td>\n",
              "      <td>Yes it is</td>\n",
              "      <td>Ajinkyatara Fort</td>\n",
              "      <td>Satara</td>\n",
              "      <td>2021</td>\n",
              "      <td>0.00</td>\n",
              "      <td>0.00</td>\n",
              "    </tr>\n",
              "    <tr>\n",
              "      <th>97</th>\n",
              "      <td>98</td>\n",
              "      <td>STU</td>\n",
              "      <td>No</td>\n",
              "      <td>Car got stolen away, its not authentic</td>\n",
              "      <td>Mayani Bird Sanctuary</td>\n",
              "      <td>Satara</td>\n",
              "      <td>2021</td>\n",
              "      <td>0.75</td>\n",
              "      <td>-0.25</td>\n",
              "    </tr>\n",
              "    <tr>\n",
              "      <th>98</th>\n",
              "      <td>99</td>\n",
              "      <td>PQR</td>\n",
              "      <td>Yes</td>\n",
              "      <td>Yes parking</td>\n",
              "      <td>Ajinkyatara Fort</td>\n",
              "      <td>Satara</td>\n",
              "      <td>2021</td>\n",
              "      <td>0.00</td>\n",
              "      <td>0.00</td>\n",
              "    </tr>\n",
              "    <tr>\n",
              "      <th>99</th>\n",
              "      <td>100</td>\n",
              "      <td>STU</td>\n",
              "      <td>No</td>\n",
              "      <td>No its not a parking place</td>\n",
              "      <td>Mayani Bird Sanctuary</td>\n",
              "      <td>Satara</td>\n",
              "      <td>2021</td>\n",
              "      <td>0.00</td>\n",
              "      <td>0.00</td>\n",
              "    </tr>\n",
              "  </tbody>\n",
              "</table>\n",
              "<p>100 rows × 9 columns</p>\n",
              "</div>"
            ],
            "text/plain": [
              "    S.No Parking Name Yes/No  ...  Year Subjectivity Polarity\n",
              "0      1          ABC    Yes  ...  2020         0.00     0.00\n",
              "1      2          ABC    Yes  ...  2020         0.00     0.00\n",
              "2      3          GHI    Yes  ...  2020         0.90     0.40\n",
              "3      4          ABC    Yes  ...  2020         0.75     0.50\n",
              "4      5          GHI    Yes  ...  2020         0.00     0.00\n",
              "..   ...          ...    ...  ...   ...          ...      ...\n",
              "95    96          STU     No  ...  2021         0.00     0.00\n",
              "96    97          PQR    Yes  ...  2021         0.00     0.00\n",
              "97    98          STU     No  ...  2021         0.75    -0.25\n",
              "98    99          PQR    Yes  ...  2021         0.00     0.00\n",
              "99   100          STU     No  ...  2021         0.00     0.00\n",
              "\n",
              "[100 rows x 9 columns]"
            ]
          },
          "metadata": {
            "tags": []
          },
          "execution_count": 7
        }
      ]
    },
    {
      "cell_type": "code",
      "metadata": {
        "id": "xKKkBuFvD2Du",
        "colab": {
          "base_uri": "https://localhost:8080/",
          "height": 402
        },
        "outputId": "e1a47874-be17-403f-a95b-79f23a5f9b0e"
      },
      "source": [
        "#Create a function to compute the negative, neutral and positive analysis\n",
        "\n",
        "def getAnalysis(score):\n",
        "  if score < 0:\n",
        "    return 'Negative'\n",
        "  elif score == 0:\n",
        "    return 'Neutral'\n",
        "  else:\n",
        "    return 'Positive'\n",
        "\n",
        "df['Analysis'] = df['Polarity'].apply(getAnalysis)\n",
        "\n",
        "df"
      ],
      "execution_count": null,
      "outputs": [
        {
          "output_type": "execute_result",
          "data": {
            "text/html": [
              "<div>\n",
              "<style scoped>\n",
              "    .dataframe tbody tr th:only-of-type {\n",
              "        vertical-align: middle;\n",
              "    }\n",
              "\n",
              "    .dataframe tbody tr th {\n",
              "        vertical-align: top;\n",
              "    }\n",
              "\n",
              "    .dataframe thead th {\n",
              "        text-align: right;\n",
              "    }\n",
              "</style>\n",
              "<table border=\"1\" class=\"dataframe\">\n",
              "  <thead>\n",
              "    <tr style=\"text-align: right;\">\n",
              "      <th></th>\n",
              "      <th>S.No</th>\n",
              "      <th>Parking Name</th>\n",
              "      <th>Yes/No</th>\n",
              "      <th>Review</th>\n",
              "      <th>Area</th>\n",
              "      <th>District</th>\n",
              "      <th>Year</th>\n",
              "      <th>Subjectivity</th>\n",
              "      <th>Polarity</th>\n",
              "      <th>Analysis</th>\n",
              "    </tr>\n",
              "  </thead>\n",
              "  <tbody>\n",
              "    <tr>\n",
              "      <th>0</th>\n",
              "      <td>1</td>\n",
              "      <td>ABC</td>\n",
              "      <td>Yes</td>\n",
              "      <td>It is a valid place to park, but untidy</td>\n",
              "      <td>Hadapsar</td>\n",
              "      <td>Pune</td>\n",
              "      <td>2020</td>\n",
              "      <td>0.00</td>\n",
              "      <td>0.00</td>\n",
              "      <td>Neutral</td>\n",
              "    </tr>\n",
              "    <tr>\n",
              "      <th>1</th>\n",
              "      <td>2</td>\n",
              "      <td>ABC</td>\n",
              "      <td>Yes</td>\n",
              "      <td>ghgmail</td>\n",
              "      <td>Hadapsar</td>\n",
              "      <td>Pune</td>\n",
              "      <td>2020</td>\n",
              "      <td>0.00</td>\n",
              "      <td>0.00</td>\n",
              "      <td>Neutral</td>\n",
              "    </tr>\n",
              "    <tr>\n",
              "      <th>2</th>\n",
              "      <td>3</td>\n",
              "      <td>GHI</td>\n",
              "      <td>Yes</td>\n",
              "      <td>Valid Parking but huge traffic</td>\n",
              "      <td>Juhu Beach</td>\n",
              "      <td>Mumbai</td>\n",
              "      <td>2020</td>\n",
              "      <td>0.90</td>\n",
              "      <td>0.40</td>\n",
              "      <td>Positive</td>\n",
              "    </tr>\n",
              "    <tr>\n",
              "      <th>3</th>\n",
              "      <td>4</td>\n",
              "      <td>ABC</td>\n",
              "      <td>Yes</td>\n",
              "      <td>Authentic</td>\n",
              "      <td>Hadapsar</td>\n",
              "      <td>Pune</td>\n",
              "      <td>2020</td>\n",
              "      <td>0.75</td>\n",
              "      <td>0.50</td>\n",
              "      <td>Positive</td>\n",
              "    </tr>\n",
              "    <tr>\n",
              "      <th>4</th>\n",
              "      <td>5</td>\n",
              "      <td>GHI</td>\n",
              "      <td>Yes</td>\n",
              "      <td>It is a valid place to park, but untidy</td>\n",
              "      <td>Juhu Beach</td>\n",
              "      <td>Mumbai</td>\n",
              "      <td>2020</td>\n",
              "      <td>0.00</td>\n",
              "      <td>0.00</td>\n",
              "      <td>Neutral</td>\n",
              "    </tr>\n",
              "    <tr>\n",
              "      <th>...</th>\n",
              "      <td>...</td>\n",
              "      <td>...</td>\n",
              "      <td>...</td>\n",
              "      <td>...</td>\n",
              "      <td>...</td>\n",
              "      <td>...</td>\n",
              "      <td>...</td>\n",
              "      <td>...</td>\n",
              "      <td>...</td>\n",
              "      <td>...</td>\n",
              "    </tr>\n",
              "    <tr>\n",
              "      <th>95</th>\n",
              "      <td>96</td>\n",
              "      <td>STU</td>\n",
              "      <td>No</td>\n",
              "      <td>Not valid</td>\n",
              "      <td>Mayani Bird Sanctuary</td>\n",
              "      <td>Satara</td>\n",
              "      <td>2021</td>\n",
              "      <td>0.00</td>\n",
              "      <td>0.00</td>\n",
              "      <td>Neutral</td>\n",
              "    </tr>\n",
              "    <tr>\n",
              "      <th>96</th>\n",
              "      <td>97</td>\n",
              "      <td>PQR</td>\n",
              "      <td>Yes</td>\n",
              "      <td>Yes it is</td>\n",
              "      <td>Ajinkyatara Fort</td>\n",
              "      <td>Satara</td>\n",
              "      <td>2021</td>\n",
              "      <td>0.00</td>\n",
              "      <td>0.00</td>\n",
              "      <td>Neutral</td>\n",
              "    </tr>\n",
              "    <tr>\n",
              "      <th>97</th>\n",
              "      <td>98</td>\n",
              "      <td>STU</td>\n",
              "      <td>No</td>\n",
              "      <td>Car got stolen away, its not authentic</td>\n",
              "      <td>Mayani Bird Sanctuary</td>\n",
              "      <td>Satara</td>\n",
              "      <td>2021</td>\n",
              "      <td>0.75</td>\n",
              "      <td>-0.25</td>\n",
              "      <td>Negative</td>\n",
              "    </tr>\n",
              "    <tr>\n",
              "      <th>98</th>\n",
              "      <td>99</td>\n",
              "      <td>PQR</td>\n",
              "      <td>Yes</td>\n",
              "      <td>Yes parking</td>\n",
              "      <td>Ajinkyatara Fort</td>\n",
              "      <td>Satara</td>\n",
              "      <td>2021</td>\n",
              "      <td>0.00</td>\n",
              "      <td>0.00</td>\n",
              "      <td>Neutral</td>\n",
              "    </tr>\n",
              "    <tr>\n",
              "      <th>99</th>\n",
              "      <td>100</td>\n",
              "      <td>STU</td>\n",
              "      <td>No</td>\n",
              "      <td>No its not a parking place</td>\n",
              "      <td>Mayani Bird Sanctuary</td>\n",
              "      <td>Satara</td>\n",
              "      <td>2021</td>\n",
              "      <td>0.00</td>\n",
              "      <td>0.00</td>\n",
              "      <td>Neutral</td>\n",
              "    </tr>\n",
              "  </tbody>\n",
              "</table>\n",
              "<p>100 rows × 10 columns</p>\n",
              "</div>"
            ],
            "text/plain": [
              "    S.No Parking Name Yes/No  ... Subjectivity Polarity  Analysis\n",
              "0      1          ABC    Yes  ...         0.00     0.00   Neutral\n",
              "1      2          ABC    Yes  ...         0.00     0.00   Neutral\n",
              "2      3          GHI    Yes  ...         0.90     0.40  Positive\n",
              "3      4          ABC    Yes  ...         0.75     0.50  Positive\n",
              "4      5          GHI    Yes  ...         0.00     0.00   Neutral\n",
              "..   ...          ...    ...  ...          ...      ...       ...\n",
              "95    96          STU     No  ...         0.00     0.00   Neutral\n",
              "96    97          PQR    Yes  ...         0.00     0.00   Neutral\n",
              "97    98          STU     No  ...         0.75    -0.25  Negative\n",
              "98    99          PQR    Yes  ...         0.00     0.00   Neutral\n",
              "99   100          STU     No  ...         0.00     0.00   Neutral\n",
              "\n",
              "[100 rows x 10 columns]"
            ]
          },
          "metadata": {
            "tags": []
          },
          "execution_count": 8
        }
      ]
    },
    {
      "cell_type": "code",
      "metadata": {
        "id": "DIoYBiJrD2Gb",
        "colab": {
          "base_uri": "https://localhost:8080/"
        },
        "outputId": "81454d71-8597-4d46-90dd-b74152ca9920"
      },
      "source": [
        "#Create a function to print all positive reviews\n",
        "\n",
        "i = 1\n",
        "sortedDF =df.sort_values(by=['Polarity'])\n",
        "for i in range(0, sortedDF.shape[0]):\n",
        "  if (sortedDF['Analysis'][i] == 'Positive'):\n",
        "    print(str(i)+ ')'+sortedDF['Review'][i])\n",
        "    print()\n",
        "    i = i+1"
      ],
      "execution_count": null,
      "outputs": [
        {
          "output_type": "stream",
          "text": [
            "2)Valid Parking but huge traffic\n",
            "\n",
            "3)Authentic\n",
            "\n",
            "6)Valid Parking but huge traffic\n",
            "\n",
            "10)Valid Parking but huge traffic\n",
            "\n",
            "14)Okay parking\n",
            "\n",
            "37)Valid Parking but huge traffic\n",
            "\n",
            "41)Valid Parking but huge traffic\n",
            "\n",
            "45)Valid Parking but huge traffic\n",
            "\n",
            "49)Okay parking\n",
            "\n",
            "54)Valid Parking but huge traffic\n",
            "\n",
            "57)Valid Parking but huge traffic\n",
            "\n",
            "60)Valid Parking but huge traffic\n",
            "\n",
            "63)Valid Parking but huge traffic\n",
            "\n",
            "78)Cool place\n",
            "\n"
          ],
          "name": "stdout"
        }
      ]
    },
    {
      "cell_type": "code",
      "metadata": {
        "id": "WAg-RpKdD2Jg",
        "colab": {
          "base_uri": "https://localhost:8080/"
        },
        "outputId": "90043f8e-9c23-4330-ba37-8d4bdbdd6c30"
      },
      "source": [
        "#Create a function to print all positive reviews\n",
        "\n",
        "j = 1\n",
        "sortedDF =df.sort_values(by=['Polarity'])\n",
        "for j in range(0, sortedDF.shape[0]):\n",
        "  if (sortedDF['Analysis'][j] == 'Negative'):\n",
        "    print(str(j)+ ')'+sortedDF['Review'][j])\n",
        "    print()\n",
        "    j = j+1"
      ],
      "execution_count": null,
      "outputs": [
        {
          "output_type": "stream",
          "text": [
            "15)Car got stolen away, its not authentic\n",
            "\n",
            "17)Car mirror was broken, not a place to park\n",
            "\n",
            "18)Tire was flat, not a good place to park\n",
            "\n",
            "19)Car got stolen away, its not authentic\n",
            "\n",
            "21)Car mirror was broken, not a place to park\n",
            "\n",
            "22)Tire was flat, not a good place to park\n",
            "\n",
            "23)Car got stolen away, its not authentic\n",
            "\n",
            "25)Car mirror was broken, not a place to park\n",
            "\n",
            "26)Tire was flat, not a good place to park\n",
            "\n",
            "27)Car got stolen away, its not authentic\n",
            "\n",
            "29)Car mirror was broken, but it is a reputed parking\n",
            "\n",
            "30)Tire was flat, not a good place to park\n",
            "\n",
            "32)Car mirror was broken, not a place to park\n",
            "\n",
            "33)Tire was flat, not a good place to park\n",
            "\n",
            "34)Car got stolen away, its not authentic\n",
            "\n",
            "70)Car got stolen away, its not authentic\n",
            "\n",
            "71)Car mirror was broken yet a reputated one\n",
            "\n",
            "74)Car got stolen away, its not authentic\n",
            "\n",
            "83)Car got stolen away, its not authentic\n",
            "\n",
            "85)Car got stolen away, its not authentic\n",
            "\n",
            "93)Car got stolen away, its not authentic\n",
            "\n",
            "97)Car got stolen away, its not authentic\n",
            "\n"
          ],
          "name": "stdout"
        }
      ]
    },
    {
      "cell_type": "code",
      "metadata": {
        "id": "hS0eFIBPD2MW",
        "colab": {
          "base_uri": "https://localhost:8080/",
          "height": 405
        },
        "outputId": "1e368ed0-294e-4509-e3e6-f73fdcc33883"
      },
      "source": [
        "#Plotting a grpah for Polarity and Subjectivity\n",
        "plt.figure(figsize=(8,6))\n",
        "for i in range(0, df.shape[0]):\n",
        "  plt.scatter(df['Polarity'][i], df['Subjectivity'][i], color =\"Red\")\n",
        "\n",
        "plt.title(\"Sentimental analysis\")\n",
        "plt.xlabel(\"Polarity\")\n",
        "plt.ylabel(\"Subjectivity\")\n",
        "plt.show()"
      ],
      "execution_count": null,
      "outputs": [
        {
          "output_type": "display_data",
          "data": {
            "image/png": "[encoded data removed]",
            "text/plain": [
              "<Figure size 576x432 with 1 Axes>"
            ]
          },
          "metadata": {
            "tags": [],
            "needs_background": "light"
          }
        }
      ]
    },
    {
      "cell_type": "code",
      "metadata": {
        "id": "RCaxkr4lD2Qr",
        "colab": {
          "base_uri": "https://localhost:8080/"
        },
        "outputId": "2822c61d-1419-4e7a-9387-a83273813d6c"
      },
      "source": [
        "#Percentages of positive comments\n",
        "\n",
        "previews =df[df.Analysis == 'Positive']\n",
        "previews = previews['Review']\n",
        "\n",
        "round(previews.shape[0] / df.shape[0] * 100 , 1)"
      ],
      "execution_count": null,
      "outputs": [
        {
          "output_type": "execute_result",
          "data": {
            "text/plain": [
              "14.0"
            ]
          },
          "metadata": {
            "tags": []
          },
          "execution_count": 16
        }
      ]
    },
    {
      "cell_type": "code",
      "metadata": {
        "id": "HaNeHHFCD2T5",
        "colab": {
          "base_uri": "https://localhost:8080/"
        },
        "outputId": "5d9520e5-f4b3-41d7-fcdc-1dee4f078606"
      },
      "source": [
        "#Percentages of positive comments\n",
        "\n",
        "nreviews =df[df.Analysis == 'Negative']\n",
        "nreviews = nreviews['Review']\n",
        "\n",
        "round(nreviews.shape[0] / df.shape[0] * 100 , 1)"
      ],
      "execution_count": null,
      "outputs": [
        {
          "output_type": "execute_result",
          "data": {
            "text/plain": [
              "22.0"
            ]
          },
          "metadata": {
            "tags": []
          },
          "execution_count": 17
        }
      ]
    },
    {
      "cell_type": "code",
      "metadata": {
        "colab": {
          "base_uri": "https://localhost:8080/",
          "height": 331
        },
        "id": "gnOylQs-3xsj",
        "outputId": "1859bfdb-b657-4dca-ac9f-33358510417f"
      },
      "source": [
        "#Show the value of each category\n",
        "\n",
        "df['Analysis'].value_counts()\n",
        "\n",
        "\n",
        "#plot and visualise the counts\n",
        "plt.title('Sentiment Analysis')\n",
        "plt.xlabel('Sentiment')\n",
        "plt.ylabel('Counts')\n",
        "df['Analysis'].value_counts().plot(kind='bar')\n",
        "plt.show()"
      ],
      "execution_count": null,
      "outputs": [
        {
          "output_type": "display_data",
          "data": {
            "image/png": "[encoded data removed]",
            "text/plain": [
              "<Figure size 432x288 with 1 Axes>"
            ]
          },
          "metadata": {
            "tags": [],
            "needs_background": "light"
          }
        }
      ]
    }
  ]
}